{
 "cells": [
  {
   "cell_type": "code",
   "execution_count": null,
   "id": "1d2a1223",
   "metadata": {},
   "outputs": [],
   "source": [
    "from lexicalrichness import LexicalRichness\n",
    "\n",
    "text = \"\"\"Measure of textual lexical diversity, computed as the mean length of sequential words in\n",
    "                a text that maintains a minimum threshold TTR score.\n",
    "\n",
    "                Iterates over words until TTR scores falls below a threshold, then increase factor\n",
    "                counter by 1 and start over. McCarthy and Jarvis (2010, pg. 385) recommends a factor\n",
    "                threshold in the range of [0.660, 0.750].\n",
    "                (McCarthy 2005, McCarthy and Jarvis 2010)\"\"\""
   ]
  },
  {
   "cell_type": "code",
   "execution_count": null,
   "id": "86ea4c06",
   "metadata": {},
   "outputs": [],
   "source": [
    "# instantiate new text object (use the tokenizer=blobber argument to use the textblob tokenizer)\n",
    "lex = LexicalRichness(text)"
   ]
  },
  {
   "cell_type": "code",
   "execution_count": null,
   "id": "a4d7b542",
   "metadata": {},
   "outputs": [],
   "source": [
    "# Return word count.\n",
    "lex.words"
   ]
  },
  {
   "cell_type": "code",
   "execution_count": null,
   "id": "f3384d74",
   "metadata": {},
   "outputs": [],
   "source": [
    "lex.terms\n"
   ]
  },
  {
   "cell_type": "code",
   "execution_count": null,
   "id": "45228268",
   "metadata": {},
   "outputs": [],
   "source": [
    "lex.ttr\n"
   ]
  },
  {
   "cell_type": "code",
   "execution_count": null,
   "id": "a64ff3aa",
   "metadata": {},
   "outputs": [],
   "source": [
    "lex.rttr\n"
   ]
  },
  {
   "cell_type": "code",
   "execution_count": null,
   "id": "3b9f5ad9",
   "metadata": {},
   "outputs": [],
   "source": [
    "lex.cttr"
   ]
  },
  {
   "cell_type": "code",
   "execution_count": null,
   "id": "cd28d5b8",
   "metadata": {},
   "outputs": [],
   "source": [
    "lex.msttr(segment_window=25)\n"
   ]
  },
  {
   "cell_type": "code",
   "execution_count": null,
   "id": "9248a4fc",
   "metadata": {},
   "outputs": [],
   "source": [
    "lex.mattr(window_size=25)\n"
   ]
  },
  {
   "cell_type": "code",
   "execution_count": null,
   "id": "61b51387",
   "metadata": {},
   "outputs": [],
   "source": [
    "lex.mtld(threshold=0.72)\n"
   ]
  },
  {
   "cell_type": "code",
   "execution_count": null,
   "id": "a3bc96d6",
   "metadata": {},
   "outputs": [],
   "source": [
    "lex.hdd(draws=42)"
   ]
  }
 ],
 "metadata": {
  "kernelspec": {
   "display_name": "Python 3",
   "language": "python",
   "name": "python3"
  },
  "language_info": {
   "codemirror_mode": {
    "name": "ipython",
    "version": 3
   },
   "file_extension": ".py",
   "mimetype": "text/x-python",
   "name": "python",
   "nbconvert_exporter": "python",
   "pygments_lexer": "ipython3",
   "version": "3.8.8"
  }
 },
 "nbformat": 4,
 "nbformat_minor": 5
}
