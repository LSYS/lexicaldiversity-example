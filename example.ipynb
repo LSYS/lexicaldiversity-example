{
 "cells": [
  {
   "cell_type": "code",
   "execution_count": 1,
   "id": "a63c6636",
   "metadata": {},
   "outputs": [],
   "source": [
    "from lexicalrichness import LexicalRichness"
   ]
  },
  {
   "cell_type": "code",
   "execution_count": 2,
   "id": "146c8a20",
   "metadata": {},
   "outputs": [],
   "source": [
    "# Enter your own text here if you prefer\n",
    "text = \"\"\"Measure of textual lexical diversity, computed as the mean length of sequential words in\n",
    "                a text that maintains a minimum threshold TTR score.\n",
    "\n",
    "                Iterates over words until TTR scores falls below a threshold, then increase factor\n",
    "                counter by 1 and start over. McCarthy and Jarvis (2010, pg. 385) recommends a factor\n",
    "                threshold in the range of [0.660, 0.750].\n",
    "                (McCarthy 2005, McCarthy and Jarvis 2010)\"\"\""
   ]
  },
  {
   "cell_type": "code",
   "execution_count": 3,
   "id": "1174cafc",
   "metadata": {},
   "outputs": [],
   "source": [
    "# instantiate new text object (use the tokenizer=blobber argument to use the textblob tokenizer)\n",
    "lex = LexicalRichness(text)"
   ]
  },
  {
   "cell_type": "code",
   "execution_count": 4,
   "id": "ab1197ed",
   "metadata": {},
   "outputs": [
    {
     "data": {
      "text/plain": [
       "57"
      ]
     },
     "execution_count": 4,
     "metadata": {},
     "output_type": "execute_result"
    }
   ],
   "source": [
    "# Return word count.\n",
    "lex.words"
   ]
  },
  {
   "cell_type": "code",
   "execution_count": 5,
   "id": "670dc039",
   "metadata": {},
   "outputs": [
    {
     "data": {
      "text/plain": [
       "39"
      ]
     },
     "execution_count": 5,
     "metadata": {},
     "output_type": "execute_result"
    }
   ],
   "source": [
    "# Return (unique) word count.\n",
    "lex.terms"
   ]
  },
  {
   "cell_type": "code",
   "execution_count": 6,
   "id": "15cf3baa",
   "metadata": {},
   "outputs": [
    {
     "data": {
      "text/plain": [
       "0.6842105263157895"
      ]
     },
     "execution_count": 6,
     "metadata": {},
     "output_type": "execute_result"
    }
   ],
   "source": [
    "# Return type-token ratio (TTR) of text.\n",
    "lex.ttr"
   ]
  },
  {
   "cell_type": "code",
   "execution_count": 7,
   "id": "243c0b6e",
   "metadata": {},
   "outputs": [
    {
     "data": {
      "text/plain": [
       "5.165676192553671"
      ]
     },
     "execution_count": 7,
     "metadata": {},
     "output_type": "execute_result"
    }
   ],
   "source": [
    "# Return root type-token ratio (RTTR) of text.\n",
    "lex.rttr"
   ]
  },
  {
   "cell_type": "code",
   "execution_count": 8,
   "id": "6ef1a291",
   "metadata": {},
   "outputs": [
    {
     "data": {
      "text/plain": [
       "3.6526846651686067"
      ]
     },
     "execution_count": 8,
     "metadata": {},
     "output_type": "execute_result"
    }
   ],
   "source": [
    "# Return corrected type-token ratio (CTTR) of text.\n",
    "lex.cttr"
   ]
  },
  {
   "cell_type": "code",
   "execution_count": 9,
   "id": "d2df1d85",
   "metadata": {},
   "outputs": [
    {
     "data": {
      "text/plain": [
       "0.88"
      ]
     },
     "execution_count": 9,
     "metadata": {},
     "output_type": "execute_result"
    }
   ],
   "source": [
    "# Return mean segmental type-token ratio (MSTTR).\n",
    "lex.msttr(segment_window=25)"
   ]
  },
  {
   "cell_type": "code",
   "execution_count": 10,
   "id": "c28b86be",
   "metadata": {},
   "outputs": [
    {
     "data": {
      "text/plain": [
       "0.8351515151515151"
      ]
     },
     "execution_count": 10,
     "metadata": {},
     "output_type": "execute_result"
    }
   ],
   "source": [
    "# Return moving average type-token ratio (MATTR).\n",
    "lex.mattr(window_size=25)"
   ]
  },
  {
   "cell_type": "code",
   "execution_count": 11,
   "id": "3d022a30",
   "metadata": {},
   "outputs": [
    {
     "data": {
      "text/plain": [
       "46.79226361031519"
      ]
     },
     "execution_count": 11,
     "metadata": {},
     "output_type": "execute_result"
    }
   ],
   "source": [
    "# Return Measure of Textual Lexical Diversity (MTLD).\n",
    "lex.mtld(threshold=0.72)"
   ]
  },
  {
   "cell_type": "code",
   "execution_count": 12,
   "id": "b3ffd167",
   "metadata": {},
   "outputs": [
    {
     "data": {
      "text/plain": [
       "0.7468703323966486"
      ]
     },
     "execution_count": 12,
     "metadata": {},
     "output_type": "execute_result"
    }
   ],
   "source": [
    "# Return hypergeometric distribution diversity (HD-D) measure.\n",
    "lex.hdd(draws=42)"
   ]
  }
 ],
 "metadata": {
  "kernelspec": {
   "display_name": "Python 3",
   "language": "python",
   "name": "python3"
  },
  "language_info": {
   "codemirror_mode": {
    "name": "ipython",
    "version": 3
   },
   "file_extension": ".py",
   "mimetype": "text/x-python",
   "name": "python",
   "nbconvert_exporter": "python",
   "pygments_lexer": "ipython3",
   "version": "3.8.8"
  }
 },
 "nbformat": 4,
 "nbformat_minor": 5
}
